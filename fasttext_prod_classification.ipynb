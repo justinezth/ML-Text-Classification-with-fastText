{
 "cells": [
  {
   "cell_type": "markdown",
   "metadata": {},
   "source": [
    "# Text Classifying Products with the fastText Library"
   ]
  },
  {
   "cell_type": "code",
   "execution_count": 1,
   "metadata": {},
   "outputs": [],
   "source": [
    "import random\n",
    "import numpy\n",
    "import fasttext\n",
    "import csv\n",
    "import re\n",
    "import pandas as pd\n",
    "from sklearn.model_selection import train_test_split\n",
    "import re"
   ]
  },
  {
   "cell_type": "markdown",
   "metadata": {},
   "source": [
    "## Import and Explore Data"
   ]
  },
  {
   "cell_type": "markdown",
   "metadata": {},
   "source": [
    "'train_en.csv' is a file given to me by a colleague. This is a file of 500000 rows of raw data of product names with their product category. I read it into a dataframe called data_test. *I probably should've changed the name because this is just the training data I'm going to be using for this model, it's the entire data set.*"
   ]
  },
  {
   "cell_type": "code",
   "execution_count": 2,
   "metadata": {},
   "outputs": [
    {
     "name": "stdout",
     "output_type": "stream",
     "text": [
      "any null values: False\n"
     ]
    }
   ],
   "source": [
    "data_test = pd.read_csv('train_en.csv')\n",
    "print(\"any null values:\", data_test.isnull().values.any())"
   ]
  },
  {
   "cell_type": "code",
   "execution_count": 7,
   "metadata": {},
   "outputs": [
    {
     "data": {
      "text/plain": [
       "500000"
      ]
     },
     "execution_count": 7,
     "metadata": {},
     "output_type": "execute_result"
    }
   ],
   "source": [
    "len(data_test)"
   ]
  },
  {
   "cell_type": "code",
   "execution_count": 3,
   "metadata": {},
   "outputs": [
    {
     "data": {
      "text/html": [
       "<div>\n",
       "<style scoped>\n",
       "    .dataframe tbody tr th:only-of-type {\n",
       "        vertical-align: middle;\n",
       "    }\n",
       "\n",
       "    .dataframe tbody tr th {\n",
       "        vertical-align: top;\n",
       "    }\n",
       "\n",
       "    .dataframe thead th {\n",
       "        text-align: right;\n",
       "    }\n",
       "</style>\n",
       "<table border=\"1\" class=\"dataframe\">\n",
       "  <thead>\n",
       "    <tr style=\"text-align: right;\">\n",
       "      <th></th>\n",
       "      <th>product_title</th>\n",
       "      <th>category</th>\n",
       "    </tr>\n",
       "  </thead>\n",
       "  <tbody>\n",
       "    <tr>\n",
       "      <th>0</th>\n",
       "      <td>Recollections Color Splash Clear Stamps &amp; Stencil</td>\n",
       "      <td>Hobbies &amp; Stationery</td>\n",
       "    </tr>\n",
       "    <tr>\n",
       "      <th>1</th>\n",
       "      <td>soap,lotion scrub set 400</td>\n",
       "      <td>Health &amp; Personal Care</td>\n",
       "    </tr>\n",
       "    <tr>\n",
       "      <th>2</th>\n",
       "      <td>Spigen Galaxy S10e Case Tough Armor Gunmetal</td>\n",
       "      <td>Mobile Accessories</td>\n",
       "    </tr>\n",
       "    <tr>\n",
       "      <th>3</th>\n",
       "      <td>Acrylic Lanalon Bright Red</td>\n",
       "      <td>Hobbies &amp; Stationery</td>\n",
       "    </tr>\n",
       "    <tr>\n",
       "      <th>4</th>\n",
       "      <td>303 FLAT SHEET/Blanket 100% cotton</td>\n",
       "      <td>Home &amp; Living</td>\n",
       "    </tr>\n",
       "  </tbody>\n",
       "</table>\n",
       "</div>"
      ],
      "text/plain": [
       "                                       product_title                category\n",
       "0  Recollections Color Splash Clear Stamps & Stencil    Hobbies & Stationery\n",
       "1                          soap,lotion scrub set 400  Health & Personal Care\n",
       "2       Spigen Galaxy S10e Case Tough Armor Gunmetal      Mobile Accessories\n",
       "3                         Acrylic Lanalon Bright Red    Hobbies & Stationery\n",
       "4                 303 FLAT SHEET/Blanket 100% cotton           Home & Living"
      ]
     },
     "execution_count": 3,
     "metadata": {},
     "output_type": "execute_result"
    }
   ],
   "source": [
    "data_test.head(5)"
   ]
  },
  {
   "cell_type": "code",
   "execution_count": 9,
   "metadata": {},
   "outputs": [
    {
     "data": {
      "text/plain": [
       "'COD Saudi Gold 18K Bracelet 7.5\\\\\",Women Accessories\\n1587702033,Xiaomi Redmi 5plus Beatle Series Case,Mobile Accessories\\n2016255207,COD! ORIGINAL FOSSIL ES-9075 WATCH FOR WOMEN-BOUGHT IN US!,Women Accessories\\n366936664,DM TALLGEESE 1 MG 1/100,Toys'"
      ]
     },
     "execution_count": 9,
     "metadata": {},
     "output_type": "execute_result"
    }
   ],
   "source": [
    "data_test.iloc[233523,0]"
   ]
  },
  {
   "cell_type": "markdown",
   "metadata": {},
   "source": [
    "Some rows of the data (such as the one above) consist of multiple products with their categories in the product_title column... and some consist of emojis and non ascii characters."
   ]
  },
  {
   "cell_type": "markdown",
   "metadata": {},
   "source": [
    "## Cleaning Data and Feature Engineering"
   ]
  },
  {
   "cell_type": "code",
   "execution_count": 10,
   "metadata": {},
   "outputs": [],
   "source": [
    "#function to get rid of emojis and strip trailing white spaces\n",
    "def deEmojify(inputString):\n",
    "    return inputString.encode('ascii', 'ignore').decode('ascii').strip()"
   ]
  },
  {
   "cell_type": "code",
   "execution_count": 11,
   "metadata": {},
   "outputs": [],
   "source": [
    "#apply the function to each row and column\n",
    "for i in range(len(data_test)) :\n",
    "    #print(data_test.loc[i, \"product_title\"], data_test.loc[i, \"category\"])\n",
    "    data_test.loc[i, \"product_title\"] = deEmojify(data_test.loc[i, \"product_title\"])\n",
    "    data_test.loc[i, \"category\"] = deEmojify(data_test.loc[i, \"category\"])"
   ]
  },
  {
   "cell_type": "code",
   "execution_count": 35,
   "metadata": {},
   "outputs": [
    {
     "name": "stdout",
     "output_type": "stream",
     "text": [
      "product_title    COD Saudi Gold 18K Bracelet 7.5\\\",Women Access...\n",
      "category                                     Games & Collectibles\"\n",
      "Name: 233523, dtype: object\n"
     ]
    }
   ],
   "source": [
    "# test\n",
    "# print(data_test.iloc[188, :])\n",
    "# print(data_test.iloc[1763,:])\n",
    "# print(data_test.iloc[1754,:])\n",
    "# print(data_test.iloc[213128,:])\n",
    "# print(data_test.loc[data_test['product_title'] == 'Blue water XY02 cool mist humidifier 2 in 1',:])\n",
    "# print(data_test.iloc[211078,:])\n",
    "#print(data_test.iloc[233523,:])"
   ]
  },
  {
   "cell_type": "code",
   "execution_count": 7,
   "metadata": {},
   "outputs": [
    {
     "data": {
      "text/html": [
       "<div>\n",
       "<style scoped>\n",
       "    .dataframe tbody tr th:only-of-type {\n",
       "        vertical-align: middle;\n",
       "    }\n",
       "\n",
       "    .dataframe tbody tr th {\n",
       "        vertical-align: top;\n",
       "    }\n",
       "\n",
       "    .dataframe thead th {\n",
       "        text-align: right;\n",
       "    }\n",
       "</style>\n",
       "<table border=\"1\" class=\"dataframe\">\n",
       "  <thead>\n",
       "    <tr style=\"text-align: right;\">\n",
       "      <th></th>\n",
       "      <th>product_title</th>\n",
       "      <th>category</th>\n",
       "    </tr>\n",
       "  </thead>\n",
       "  <tbody>\n",
       "    <tr>\n",
       "      <th>499995</th>\n",
       "      <td>rocker arm roller racing mio</td>\n",
       "      <td>Motors</td>\n",
       "    </tr>\n",
       "    <tr>\n",
       "      <th>499996</th>\n",
       "      <td>Secosana (preloved bag)</td>\n",
       "      <td>Women's Bags</td>\n",
       "    </tr>\n",
       "    <tr>\n",
       "      <th>499997</th>\n",
       "      <td>jag bag</td>\n",
       "      <td>Women's Bags</td>\n",
       "    </tr>\n",
       "    <tr>\n",
       "      <th>499998</th>\n",
       "      <td>Baby wipes 15 sheets (Alcohol and Paraben Free...</td>\n",
       "      <td>Babies &amp; Kids</td>\n",
       "    </tr>\n",
       "    <tr>\n",
       "      <th>499999</th>\n",
       "      <td>PRE-LOVED ORIGINAL GREEN FINO BAG</td>\n",
       "      <td>Women's Bags</td>\n",
       "    </tr>\n",
       "  </tbody>\n",
       "</table>\n",
       "</div>"
      ],
      "text/plain": [
       "                                            product_title       category\n",
       "499995                       rocker arm roller racing mio         Motors\n",
       "499996                            Secosana (preloved bag)   Women's Bags\n",
       "499997                                            jag bag   Women's Bags\n",
       "499998  Baby wipes 15 sheets (Alcohol and Paraben Free...  Babies & Kids\n",
       "499999                  PRE-LOVED ORIGINAL GREEN FINO BAG   Women's Bags"
      ]
     },
     "execution_count": 7,
     "metadata": {},
     "output_type": "execute_result"
    }
   ],
   "source": [
    "data_test.tail()\n",
    "data_test.info()"
   ]
  },
  {
   "cell_type": "markdown",
   "metadata": {},
   "source": [
    "Now the data only contains ascii characters."
   ]
  },
  {
   "cell_type": "markdown",
   "metadata": {},
   "source": [
    "### Create New Column: Give Each Category an Numerical Index"
   ]
  },
  {
   "cell_type": "markdown",
   "metadata": {},
   "source": [
    "For fastText model to be able to recognize and read labels (categories in this case) and distinguish from words that make up the product (will explain more below), it's much easier to keep the category name shorter, so I'm giving them each an index."
   ]
  },
  {
   "cell_type": "code",
   "execution_count": 11,
   "metadata": {},
   "outputs": [],
   "source": [
    "#map categories into numbers by getting unique categories\n",
    "unique_categories = data_test.category.unique()"
   ]
  },
  {
   "cell_type": "code",
   "execution_count": 12,
   "metadata": {},
   "outputs": [],
   "source": [
    "#make dictionary of the category mappings\n",
    "dict_map = {}\n",
    "\n",
    "for x in range(len(unique_categories)):\n",
    "    dict_map[unique_categories[x]] = x"
   ]
  },
  {
   "cell_type": "code",
   "execution_count": 13,
   "metadata": {},
   "outputs": [
    {
     "name": "stdout",
     "output_type": "stream",
     "text": [
      "Hobbies & Stationery : 0\n",
      "Health & Personal Care : 1\n",
      "Mobile Accessories : 2\n",
      "Home & Living : 3\n",
      "Women's Apparel : 4\n",
      "Women Shoes : 5\n",
      "Babies & Kids : 6\n",
      "Women Accessories : 7\n",
      "Toys, Games & Collectibles : 8\n",
      "Groceries : 9\n",
      "Motors : 10\n",
      "Makeup & Fragrances : 11\n",
      "Women's Bags : 12\n",
      "Men's Apparel : 13\n",
      "Pet Care : 14\n",
      "Men's Bags & Accessories : 15\n",
      "Sports & Travel : 16\n",
      "Men Shoes : 17\n",
      "Gaming : 18\n",
      "Laptops & Computers : 19\n",
      "Home Entertainment : 20\n",
      "Mobiles & Gadgets : 21\n",
      "Cameras : 22\n",
      "Home Appliances : 23\n",
      "Consumer Electronics : 24\n",
      "Games & Collectibles\" : 25\n",
      "Digital Goods & Vouchers : 26\n"
     ]
    }
   ],
   "source": [
    "for x in dict_map:\n",
    "    print(x, \":\", dict_map[x])"
   ]
  },
  {
   "cell_type": "code",
   "execution_count": 14,
   "metadata": {},
   "outputs": [
    {
     "data": {
      "text/html": [
       "<div>\n",
       "<style scoped>\n",
       "    .dataframe tbody tr th:only-of-type {\n",
       "        vertical-align: middle;\n",
       "    }\n",
       "\n",
       "    .dataframe tbody tr th {\n",
       "        vertical-align: top;\n",
       "    }\n",
       "\n",
       "    .dataframe thead th {\n",
       "        text-align: right;\n",
       "    }\n",
       "</style>\n",
       "<table border=\"1\" class=\"dataframe\">\n",
       "  <thead>\n",
       "    <tr style=\"text-align: right;\">\n",
       "      <th></th>\n",
       "      <th>product_title</th>\n",
       "      <th>category</th>\n",
       "      <th>category_index</th>\n",
       "    </tr>\n",
       "  </thead>\n",
       "  <tbody>\n",
       "    <tr>\n",
       "      <th>0</th>\n",
       "      <td>Recollections Color Splash Clear Stamps &amp; Stencil</td>\n",
       "      <td>Hobbies &amp; Stationery</td>\n",
       "      <td>0</td>\n",
       "    </tr>\n",
       "    <tr>\n",
       "      <th>1</th>\n",
       "      <td>soap,lotion scrub set 400</td>\n",
       "      <td>Health &amp; Personal Care</td>\n",
       "      <td>1</td>\n",
       "    </tr>\n",
       "    <tr>\n",
       "      <th>2</th>\n",
       "      <td>Spigen Galaxy S10e Case Tough Armor Gunmetal</td>\n",
       "      <td>Mobile Accessories</td>\n",
       "      <td>2</td>\n",
       "    </tr>\n",
       "    <tr>\n",
       "      <th>3</th>\n",
       "      <td>Acrylic Lanalon Bright Red</td>\n",
       "      <td>Hobbies &amp; Stationery</td>\n",
       "      <td>0</td>\n",
       "    </tr>\n",
       "    <tr>\n",
       "      <th>4</th>\n",
       "      <td>303 FLAT SHEET/Blanket 100% cotton</td>\n",
       "      <td>Home &amp; Living</td>\n",
       "      <td>3</td>\n",
       "    </tr>\n",
       "    <tr>\n",
       "      <th>5</th>\n",
       "      <td>Korean Set</td>\n",
       "      <td>Women's Apparel</td>\n",
       "      <td>4</td>\n",
       "    </tr>\n",
       "    <tr>\n",
       "      <th>6</th>\n",
       "      <td>High-grade keychain</td>\n",
       "      <td>Home &amp; Living</td>\n",
       "      <td>3</td>\n",
       "    </tr>\n",
       "    <tr>\n",
       "      <th>7</th>\n",
       "      <td>CODChanel Black/White Sneaker Shoes For Women</td>\n",
       "      <td>Women Shoes</td>\n",
       "      <td>5</td>\n",
       "    </tr>\n",
       "    <tr>\n",
       "      <th>8</th>\n",
       "      <td>Cat eyeglasses</td>\n",
       "      <td>Women's Apparel</td>\n",
       "      <td>4</td>\n",
       "    </tr>\n",
       "    <tr>\n",
       "      <th>9</th>\n",
       "      <td>Baby shoes by Stride Rite (BRAND NEW) (3-6 mon...</td>\n",
       "      <td>Babies &amp; Kids</td>\n",
       "      <td>6</td>\n",
       "    </tr>\n",
       "  </tbody>\n",
       "</table>\n",
       "</div>"
      ],
      "text/plain": [
       "                                       product_title                category  \\\n",
       "0  Recollections Color Splash Clear Stamps & Stencil    Hobbies & Stationery   \n",
       "1                          soap,lotion scrub set 400  Health & Personal Care   \n",
       "2       Spigen Galaxy S10e Case Tough Armor Gunmetal      Mobile Accessories   \n",
       "3                         Acrylic Lanalon Bright Red    Hobbies & Stationery   \n",
       "4                 303 FLAT SHEET/Blanket 100% cotton           Home & Living   \n",
       "5                                         Korean Set         Women's Apparel   \n",
       "6                                High-grade keychain           Home & Living   \n",
       "7      CODChanel Black/White Sneaker Shoes For Women             Women Shoes   \n",
       "8                                     Cat eyeglasses         Women's Apparel   \n",
       "9  Baby shoes by Stride Rite (BRAND NEW) (3-6 mon...           Babies & Kids   \n",
       "\n",
       "   category_index  \n",
       "0               0  \n",
       "1               1  \n",
       "2               2  \n",
       "3               0  \n",
       "4               3  \n",
       "5               4  \n",
       "6               3  \n",
       "7               5  \n",
       "8               4  \n",
       "9               6  "
      ]
     },
     "execution_count": 14,
     "metadata": {},
     "output_type": "execute_result"
    }
   ],
   "source": [
    "#new dataframe with all the data with an numerical category column\n",
    "df_index = data_test.copy()\n",
    "df_index[\"category_index\"] = data_test.category.map(dict_map)\n",
    "df_index.head(10)"
   ]
  },
  {
   "cell_type": "markdown",
   "metadata": {},
   "source": [
    "Now that we have the category as an index, we can get rid of the category column with the longer category names."
   ]
  },
  {
   "cell_type": "code",
   "execution_count": 15,
   "metadata": {},
   "outputs": [
    {
     "data": {
      "text/html": [
       "<div>\n",
       "<style scoped>\n",
       "    .dataframe tbody tr th:only-of-type {\n",
       "        vertical-align: middle;\n",
       "    }\n",
       "\n",
       "    .dataframe tbody tr th {\n",
       "        vertical-align: top;\n",
       "    }\n",
       "\n",
       "    .dataframe thead th {\n",
       "        text-align: right;\n",
       "    }\n",
       "</style>\n",
       "<table border=\"1\" class=\"dataframe\">\n",
       "  <thead>\n",
       "    <tr style=\"text-align: right;\">\n",
       "      <th></th>\n",
       "      <th>product_title</th>\n",
       "      <th>category_index</th>\n",
       "    </tr>\n",
       "  </thead>\n",
       "  <tbody>\n",
       "    <tr>\n",
       "      <th>0</th>\n",
       "      <td>Recollections Color Splash Clear Stamps &amp; Stencil</td>\n",
       "      <td>0</td>\n",
       "    </tr>\n",
       "    <tr>\n",
       "      <th>1</th>\n",
       "      <td>soap,lotion scrub set 400</td>\n",
       "      <td>1</td>\n",
       "    </tr>\n",
       "    <tr>\n",
       "      <th>2</th>\n",
       "      <td>Spigen Galaxy S10e Case Tough Armor Gunmetal</td>\n",
       "      <td>2</td>\n",
       "    </tr>\n",
       "    <tr>\n",
       "      <th>3</th>\n",
       "      <td>Acrylic Lanalon Bright Red</td>\n",
       "      <td>0</td>\n",
       "    </tr>\n",
       "    <tr>\n",
       "      <th>4</th>\n",
       "      <td>303 FLAT SHEET/Blanket 100% cotton</td>\n",
       "      <td>3</td>\n",
       "    </tr>\n",
       "  </tbody>\n",
       "</table>\n",
       "</div>"
      ],
      "text/plain": [
       "                                       product_title  category_index\n",
       "0  Recollections Color Splash Clear Stamps & Stencil               0\n",
       "1                          soap,lotion scrub set 400               1\n",
       "2       Spigen Galaxy S10e Case Tough Armor Gunmetal               2\n",
       "3                         Acrylic Lanalon Bright Red               0\n",
       "4                 303 FLAT SHEET/Blanket 100% cotton               3"
      ]
     },
     "execution_count": 15,
     "metadata": {},
     "output_type": "execute_result"
    }
   ],
   "source": [
    "#new dataframe with only product_title and category_index\n",
    "df = df_index[['product_title', 'category_index']]\n",
    "df.head()"
   ]
  },
  {
   "cell_type": "markdown",
   "metadata": {},
   "source": [
    "### Formatting the Labels\n",
    "The format of the text that goes into a fastText is a series, with each element as a string of text including its respective labels. All the labels/categories in fastText start by the \"__label__\" prefix, which is how fastText recognize what is a label or what is a word. The model is then trained to predict the labels given the word in the document. So now I will add \\_\\_label\\_\\_ in front of the category for fastText to read it as a label and then combine the labels and words into a single string."
   ]
  },
  {
   "cell_type": "code",
   "execution_count": 16,
   "metadata": {},
   "outputs": [
    {
     "data": {
      "text/html": [
       "<div>\n",
       "<style scoped>\n",
       "    .dataframe tbody tr th:only-of-type {\n",
       "        vertical-align: middle;\n",
       "    }\n",
       "\n",
       "    .dataframe tbody tr th {\n",
       "        vertical-align: top;\n",
       "    }\n",
       "\n",
       "    .dataframe thead th {\n",
       "        text-align: right;\n",
       "    }\n",
       "</style>\n",
       "<table border=\"1\" class=\"dataframe\">\n",
       "  <thead>\n",
       "    <tr style=\"text-align: right;\">\n",
       "      <th></th>\n",
       "      <th>product_title</th>\n",
       "      <th>category_index</th>\n",
       "    </tr>\n",
       "  </thead>\n",
       "  <tbody>\n",
       "    <tr>\n",
       "      <th>0</th>\n",
       "      <td>Recollections Color Splash Clear Stamps &amp; Stencil</td>\n",
       "      <td>__label__0</td>\n",
       "    </tr>\n",
       "    <tr>\n",
       "      <th>1</th>\n",
       "      <td>soap,lotion scrub set 400</td>\n",
       "      <td>__label__1</td>\n",
       "    </tr>\n",
       "    <tr>\n",
       "      <th>2</th>\n",
       "      <td>Spigen Galaxy S10e Case Tough Armor Gunmetal</td>\n",
       "      <td>__label__2</td>\n",
       "    </tr>\n",
       "    <tr>\n",
       "      <th>3</th>\n",
       "      <td>Acrylic Lanalon Bright Red</td>\n",
       "      <td>__label__0</td>\n",
       "    </tr>\n",
       "    <tr>\n",
       "      <th>4</th>\n",
       "      <td>303 FLAT SHEET/Blanket 100% cotton</td>\n",
       "      <td>__label__3</td>\n",
       "    </tr>\n",
       "  </tbody>\n",
       "</table>\n",
       "</div>"
      ],
      "text/plain": [
       "                                       product_title category_index\n",
       "0  Recollections Color Splash Clear Stamps & Stencil     __label__0\n",
       "1                          soap,lotion scrub set 400     __label__1\n",
       "2       Spigen Galaxy S10e Case Tough Armor Gunmetal     __label__2\n",
       "3                         Acrylic Lanalon Bright Red     __label__0\n",
       "4                 303 FLAT SHEET/Blanket 100% cotton     __label__3"
      ]
     },
     "execution_count": 16,
     "metadata": {},
     "output_type": "execute_result"
    }
   ],
   "source": [
    "#add __label__ in front of the labels for fastText to read\n",
    "#df.iloc[:,1] #select category column\n",
    "df_labeled = df.copy()\n",
    "df_labeled['category_index'] = '__label__' + df_labeled['category_index'].astype(str)\n",
    "df_labeled.head()"
   ]
  },
  {
   "cell_type": "code",
   "execution_count": 17,
   "metadata": {},
   "outputs": [
    {
     "name": "stdout",
     "output_type": "stream",
     "text": [
      "0         __label__0 Recollections Color Splash Clear St...\n",
      "1                      __label__1 soap,lotion scrub set 400\n",
      "2         __label__2 Spigen Galaxy S10e Case Tough Armor...\n",
      "3                     __label__0 Acrylic Lanalon Bright Red\n",
      "4             __label__3 303 FLAT SHEET/Blanket 100% cotton\n",
      "                                ...                        \n",
      "499995             __label__10 rocker arm roller racing mio\n",
      "499996                  __label__12 Secosana (preloved bag)\n",
      "499997                                  __label__12 jag bag\n",
      "499998    __label__6 Baby wipes 15 sheets (Alcohol and P...\n",
      "499999        __label__12 PRE-LOVED ORIGINAL GREEN FINO BAG\n",
      "Length: 500000, dtype: object\n"
     ]
    }
   ],
   "source": [
    "#put category and product_title together\n",
    "#format I want: __label__ product\n",
    "category_prod = df_labeled['category_index'] + \" \" + df_labeled['product_title']\n",
    "print(category_prod)"
   ]
  },
  {
   "cell_type": "code",
   "execution_count": 18,
   "metadata": {},
   "outputs": [
    {
     "data": {
      "text/plain": [
       "pandas.core.series.Series"
      ]
     },
     "execution_count": 18,
     "metadata": {},
     "output_type": "execute_result"
    }
   ],
   "source": [
    "type(category_prod)"
   ]
  },
  {
   "cell_type": "markdown",
   "metadata": {},
   "source": [
    "As seen in the section where I explored the data, the data isn't clean because some lines of products include multiple products and categories jumbled together in one string. By looking at the data, I realized they all contain a substring with 10 digits. So I'm going to impute them since we have a pretty large set of data to work with."
   ]
  },
  {
   "cell_type": "code",
   "execution_count": 131,
   "metadata": {},
   "outputs": [
    {
     "name": "stdout",
     "output_type": "stream",
     "text": [
      "500000\n",
      "454\n",
      "499546\n"
     ]
    }
   ],
   "source": [
    "## GET RID OF LINES THAT DON'T START WITH __LABEL__\n",
    "print(len(category_prod))\n",
    "count = 0\n",
    "for line in range(len(category_prod)-1, -1, -1):\n",
    "    match = re.search(r'\\d\\d\\d\\d\\d\\d\\d\\d\\d\\d', category_prod[line])\n",
    "    try:\n",
    "        if not match.group() == \"\":\n",
    "            category_prod = category_prod.drop(line)\n",
    "            count+=1\n",
    "    except:\n",
    "        count += 0\n",
    "print(count)\n",
    "print(len(category_prod))"
   ]
  },
  {
   "cell_type": "markdown",
   "metadata": {},
   "source": [
    "After cleaning out the data, we have 499546 lines to work with."
   ]
  },
  {
   "cell_type": "markdown",
   "metadata": {},
   "source": [
    "## Train Test Split"
   ]
  },
  {
   "cell_type": "code",
   "execution_count": 132,
   "metadata": {},
   "outputs": [],
   "source": [
    "#split into train and test\n",
    "train, test = train_test_split(category_prod, test_size=0.3, train_size=0.7, random_state=42)"
   ]
  },
  {
   "cell_type": "code",
   "execution_count": 134,
   "metadata": {},
   "outputs": [],
   "source": [
    "#write test and train into files\n",
    "f_train = open(\"train.txt\", \"a\")\n",
    "for i in range(len(numpy.array(train))):\n",
    "    f_train.write(numpy.array(train)[i] + \"\\n\")\n",
    "f_train.close()\n",
    "\n",
    "f_test = open(\"test.txt\", \"a\")\n",
    "for i in range(len(numpy.array(test))):\n",
    "    f_test.write(numpy.array(test)[i] + \"\\n\")\n",
    "f_test.close()\n"
   ]
  },
  {
   "cell_type": "markdown",
   "metadata": {},
   "source": [
    "I used the train_supervised function instead of unsupervised because the products already are classified, which means this will be a supervised classification model."
   ]
  },
  {
   "cell_type": "code",
   "execution_count": 12,
   "metadata": {},
   "outputs": [],
   "source": [
    "#train model\n",
    "model = fasttext.train_supervised(input=\"train.txt\")"
   ]
  },
  {
   "cell_type": "code",
   "execution_count": 13,
   "metadata": {},
   "outputs": [
    {
     "data": {
      "text/plain": [
       "(('__label__7',), array([1.0000087]))"
      ]
     },
     "execution_count": 13,
     "metadata": {},
     "output_type": "execute_result"
    }
   ],
   "source": [
    "model.predict(\"Sterling Silver Ladies Dangling Earrings DE24TB\")"
   ]
  },
  {
   "cell_type": "code",
   "execution_count": 14,
   "metadata": {},
   "outputs": [
    {
     "data": {
      "text/plain": [
       "(149864, 0.8053435114503816, 0.8053435114503816)"
      ]
     },
     "execution_count": 14,
     "metadata": {},
     "output_type": "execute_result"
    }
   ],
   "source": [
    "#test using the model\n",
    "model.test(\"test.txt\") #(n, precision, recall)"
   ]
  },
  {
   "cell_type": "code",
   "execution_count": 15,
   "metadata": {},
   "outputs": [
    {
     "data": {
      "text/plain": [
       "(('__label__4',), array([0.77857149]))"
      ]
     },
     "execution_count": 15,
     "metadata": {},
     "output_type": "execute_result"
    }
   ],
   "source": [
    "#try to test random words to see if can predict into a label/category that makes sense\n",
    "model.predict(\"track and field spikes\")"
   ]
  },
  {
   "cell_type": "markdown",
   "metadata": {},
   "source": [
    "label 4 is Women Accessories... not sure if this completely fits into that category."
   ]
  },
  {
   "cell_type": "markdown",
   "metadata": {},
   "source": [
    "## Tuning the Model"
   ]
  },
  {
   "cell_type": "markdown",
   "metadata": {},
   "source": [
    "I'm going to try improving performance of the model by adjusting the wordNgrams parameter, which by default is 1 (a unigram). I tried using word bigrams (wordNgrams = 2), instead of just unigrams. Instead of inputting single words into the model, putting 2 consecutive tokens or words in can be important for classification problems where word order is important, such as sentiment analysis."
   ]
  },
  {
   "cell_type": "code",
   "execution_count": 185,
   "metadata": {},
   "outputs": [],
   "source": [
    "#wordNgrams=2\n",
    "model2 = fasttext.train_supervised(input=\"train.txt\", wordNgrams=2)"
   ]
  },
  {
   "cell_type": "code",
   "execution_count": 182,
   "metadata": {},
   "outputs": [
    {
     "data": {
      "text/plain": [
       "(('__label__7',), array([1.00000918]))"
      ]
     },
     "execution_count": 182,
     "metadata": {},
     "output_type": "execute_result"
    }
   ],
   "source": [
    "model2.predict(\"Sterling Silver Ladies Dangling Earrings DE24TB\")"
   ]
  },
  {
   "cell_type": "code",
   "execution_count": 186,
   "metadata": {},
   "outputs": [
    {
     "data": {
      "text/plain": [
       "(149864, 0.8101345219665831, 0.8101345219665831)"
      ]
     },
     "execution_count": 186,
     "metadata": {},
     "output_type": "execute_result"
    }
   ],
   "source": [
    "#test\n",
    "model2.test(\"test.txt\") #(n, precision, recall)"
   ]
  },
  {
   "cell_type": "markdown",
   "metadata": {},
   "source": [
    "The precision increase a little bit to 81.01% after adjusting the wordNgrams parameter. I also tried adjusting other parameters such as epoch and learning rate and scaling things up with hierarchical softmax, but they didn't help much So I kept the model at this. I think a precision of 81.01% is pretty good for my first time working with a classification model, though it can definitely be improved."
   ]
  }
 ],
 "metadata": {
  "kernelspec": {
   "display_name": "Python 3",
   "language": "python",
   "name": "python3"
  },
  "language_info": {
   "codemirror_mode": {
    "name": "ipython",
    "version": 3
   },
   "file_extension": ".py",
   "mimetype": "text/x-python",
   "name": "python",
   "nbconvert_exporter": "python",
   "pygments_lexer": "ipython3",
   "version": "3.7.6"
  }
 },
 "nbformat": 4,
 "nbformat_minor": 1
}
